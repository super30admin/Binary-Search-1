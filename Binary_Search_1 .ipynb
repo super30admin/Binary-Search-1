{
  "nbformat": 4,
  "nbformat_minor": 0,
  "metadata": {
    "colab": {
      "name": "Binary Search 1.ipynb",
      "provenance": []
    },
    "kernelspec": {
      "name": "python3",
      "display_name": "Python 3"
    },
    "language_info": {
      "name": "python"
    }
  },
  "cells": [
    {
      "cell_type": "code",
      "source": [
        "Search in a Rotated Sorted Array"
      ],
      "metadata": {
        "id": "0o6eoLGv-0ta"
      },
      "execution_count": null,
      "outputs": []
    },
    {
      "cell_type": "code",
      "execution_count": 4,
      "metadata": {
        "id": "9dhXXQA5-o6u",
        "colab": {
          "base_uri": "https://localhost:8080/"
        },
        "outputId": "04f941f9-8fce-400a-c07e-4b262aecf016"
      },
      "outputs": [
        {
          "output_type": "stream",
          "name": "stdout",
          "text": [
            "2\n"
          ]
        }
      ],
      "source": [
        "nums = [4,5,6,7,0,1,2]\n",
        "target = 6\n",
        "def search(nums,target):\n",
        "  left = 0\n",
        "  right = len(nums) - 1\n",
        "  while left <= right:\n",
        "      mid = (left + right) // 2\n",
        "      if nums[mid] == target:\n",
        "          return mid\n",
        "      if nums[mid] >= nums[left]:\n",
        "          if target>=nums[left] and target<nums[mid]:\n",
        "              right = mid-1\n",
        "          else:\n",
        "              left = mid+1     \n",
        "      else:\n",
        "          if target>nums[mid] and target<=nums[right]:\n",
        "              left = mid+1\n",
        "          else:\n",
        "              right = mid-1           \n",
        "  return -1\n",
        "\n",
        "print(search(nums,target))"
      ]
    },
    {
      "cell_type": "code",
      "source": [
        "Search in Infinite sorted array:"
      ],
      "metadata": {
        "id": "bqc67Og3-uPH"
      },
      "execution_count": null,
      "outputs": []
    },
    {
      "cell_type": "code",
      "source": [
        "def binarysearch(arr,low,high,target):\n",
        "  while low <= high:\n",
        "    mid = (low + high) // 2\n",
        "    if arr[mid] == target:\n",
        "      return mid\n",
        "    elif arr[mid] > target:\n",
        "      high = mid - 1\n",
        "    else:\n",
        "      low = mid + 1\n",
        "  return -1\n",
        "    \n",
        "\n",
        "def findPos(arr, target):\n",
        "  low = 0\n",
        "  high = 1\n",
        "  val = arr[low]\n",
        "  while val <= target:\n",
        "    low = high\n",
        "    high = 2 * high\n",
        "    val = arr[high]\n",
        "  return binarysearch(arr,low,high,target)\n",
        "\n",
        "\n",
        "\n",
        "arr = [3, 5, 7, 9, 10, 90, 100, 130, 140, 160, 170]\n",
        "ans = findPos(arr,100)\n",
        "print(ans)"
      ],
      "metadata": {
        "colab": {
          "base_uri": "https://localhost:8080/"
        },
        "id": "QM_The6FwTYg",
        "outputId": "184366ad-7a5f-42f9-efad-58008eace8ff"
      },
      "execution_count": 22,
      "outputs": [
        {
          "output_type": "stream",
          "name": "stdout",
          "text": [
            "6\n"
          ]
        }
      ]
    },
    {
      "cell_type": "markdown",
      "source": [
        "Search a 2D Matrix"
      ],
      "metadata": {
        "id": "u8o-xDWJ-rc3"
      }
    },
    {
      "cell_type": "code",
      "source": [
        "def searchMatrix(matrix, target):\n",
        "  if not matrix or target is None:\n",
        "            return False\n",
        "\n",
        "  rows, cols = len(matrix), len(matrix[0])\n",
        "  low, high = 0, rows * cols - 1\n",
        "  \n",
        "  while low <= high:\n",
        "      mid = (low + high) // 2\n",
        "      num = matrix[mid // cols][mid % cols]\n",
        "      if num == target:\n",
        "          return True\n",
        "      elif num < target:\n",
        "          low = mid + 1\n",
        "      else:\n",
        "          high = mid - 1\n",
        "  \n",
        "  return False\n",
        "\n",
        "\n",
        "matrix = [[1,3,5,7],[10,11,16,20],[23,30,34,60]]\n",
        "target = 3\n",
        "print(searchMatrix(matrix, target))"
      ],
      "metadata": {
        "colab": {
          "base_uri": "https://localhost:8080/"
        },
        "id": "r5tMknnbGnCW",
        "outputId": "508ae61b-da69-47a4-cbc5-4cb045791252"
      },
      "execution_count": 28,
      "outputs": [
        {
          "output_type": "stream",
          "name": "stdout",
          "text": [
            "True\n"
          ]
        }
      ]
    }
  ]
}