{
 "cells": [
  {
   "cell_type": "code",
   "execution_count": null,
   "metadata": {},
   "outputs": [],
   "source": [
    "// ques: 702. Search in a Sorted Array of Unknown Size\n",
    "\n",
    "// Time Complexity :\n",
    "// O(log(MN))\n",
    "\n",
    "// Space Complexity :\n",
    "//O(1)\n",
    "\n",
    "// Did this code successfully run on Leetcode :\n",
    "// Yes\n",
    "\n",
    "// Any problem you faced while coding this :\n",
    "// No\n",
    "\n",
    "// Your code here along with comments explaining your approach\n",
    "\n",
    "class Solution:\n",
    "    def search(self, reader, target):\n",
    "        \"\"\"\n",
    "        :type reader: ArrayReader\n",
    "        :type target: int\n",
    "        :rtype: int\n",
    "        \"\"\"\n",
    "        low = 0\n",
    "        high = 1\n",
    "        \n",
    "        while (reader.get(high) < target):\n",
    "            low = high\n",
    "            high = high * 2\n",
    "            \n",
    "            \n",
    "        while (low <= high):\n",
    "            mid = (low + high)//2\n",
    "            \n",
    "            if reader.get(mid) == target:\n",
    "                return mid\n",
    "            elif reader.get(mid) > target:\n",
    "                high = mid - 1\n",
    "            else:\n",
    "                low = mid +1\n",
    "                \n",
    "        return -1"
   ]
  }
 ],
 "metadata": {
  "kernelspec": {
   "display_name": "Python 3",
   "language": "python",
   "name": "python3"
  },
  "language_info": {
   "codemirror_mode": {
    "name": "ipython",
    "version": 3
   },
   "file_extension": ".py",
   "mimetype": "text/x-python",
   "name": "python",
   "nbconvert_exporter": "python",
   "pygments_lexer": "ipython3",
   "version": "3.8.5"
  }
 },
 "nbformat": 4,
 "nbformat_minor": 4
}
