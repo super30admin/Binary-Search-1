{
  "nbformat": 4,
  "nbformat_minor": 0,
  "metadata": {
    "colab": {
      "provenance": []
    },
    "kernelspec": {
      "name": "python3",
      "display_name": "Python 3"
    },
    "language_info": {
      "name": "python"
    }
  },
  "cells": [
    {
      "cell_type": "code",
      "execution_count": null,
      "metadata": {
        "id": "pQzUAFdF7gDL"
      },
      "outputs": [],
      "source": [
        "class Solution(object): #First and Last element in arotated sorted array\n",
        "\n",
        "    def find_bound(self, nums, target, is_first):\n",
        "        low=0\n",
        "        high = len(nums)-1\n",
        "        while(low<=high):\n",
        "            mid=low+(high - low)//2\n",
        "            if target==nums[mid]:\n",
        "                if is_first:\n",
        "                    if mid==0 or nums[mid]>nums[mid-1]:\n",
        "                        return mid\n",
        "                    else:\n",
        "                        high=mid-1\n",
        "                else:\n",
        "                    if mid==high or nums[mid]<nums[mid+1]:\n",
        "                        return mid\n",
        "                    else:\n",
        "                        low=mid+1\n",
        "            elif(target<nums[mid]):\n",
        "                high = mid-1\n",
        "            else:\n",
        "                low=mid+1\n",
        "        return -1\n",
        "\n",
        "\n",
        "\n",
        "\n",
        "\n",
        "\n",
        "    def searchRange(self, nums, target):\n",
        "        \"\"\"\n",
        "        :type nums: List[int]\n",
        "        :type target: int\n",
        "        :rtype: List[int]\n",
        "        \"\"\"\n",
        "        return [self.find_bound(nums,target,True), self.find_bound(nums, target, False)]\n",
        "    "
      ]
    },
    {
      "cell_type": "code",
      "source": [
        "class Solution(object): #(Min in arotated sorted array)\n",
        "    def findMin(self, nums):\n",
        "        \"\"\"\n",
        "        :type nums: List[int]\n",
        "        :rtype: int\n",
        "        \"\"\"\n",
        "        low=0\n",
        "        high=len(nums)-1\n",
        "        while(low<=high):\n",
        "            if(nums[low]<nums[high]):\n",
        "                return nums[low]\n",
        "            mid=low+(high-low)//2\n",
        "            if (mid==0 or nums[mid]<nums[mid-1]) and (mid==len(nums)-1 or nums[mid]<nums[mid+1]):\n",
        "                return nums[mid]\n",
        "            elif(nums[low]<=nums[mid]):\n",
        "                low=mid+1\n",
        "            else:\n",
        "                high = mid-1\n",
        "        return -1\n"
      ],
      "metadata": {
        "id": "s6s7f_-XbrCV"
      },
      "execution_count": null,
      "outputs": []
    },
    {
      "cell_type": "code",
      "source": [
        "class Solution(object):#(Find a peak element)\n",
        "    def findPeakElement(self, nums):\n",
        "        \"\"\"\n",
        "        :type nums: List[int]\n",
        "        :rtype: int\n",
        "        \"\"\"\n",
        "        low=0\n",
        "        high=len(nums)-1\n",
        "        while(low<=high):\n",
        "            mid=low+(high-low)//2\n",
        "            if(mid==0 or nums[mid]>nums[mid-1]) and (mid==len(nums)-1 or nums[mid]>nums[mid+1]):\n",
        "                return mid\n",
        "            elif(mid>0 and nums[mid]<=nums[mid-1]):\n",
        "                high = mid-1\n",
        "            else:\n",
        "                low = mid+1\n",
        "        return -1"
      ],
      "metadata": {
        "id": "oYVsJKi1_JEE"
      },
      "execution_count": null,
      "outputs": []
    },
    {
      "cell_type": "code",
      "source": [
        "class Solution(object): #(search in a rotated sorted array)\n",
        "    def search(self, nums, target):\n",
        "        \"\"\"\n",
        "        :type nums: List[int]\n",
        "        :type target: int\n",
        "        :rtype: int\n",
        "        \"\"\"\n",
        "        low=0\n",
        "        high=len(nums)-1\n",
        "        while(low<=high):\n",
        "            mid=low+(high-low)//2\n",
        "            if (target==nums[mid]):\n",
        "                return mid\n",
        "            elif(nums[low]<=nums[mid]):\n",
        "                if target>=nums[low] and target<nums[mid]:\n",
        "                    high = mid-1\n",
        "                else:\n",
        "                    low=mid+1\n",
        "            else:\n",
        "                if target<=nums[high] and target>nums[mid]:\n",
        "                    low =mid+1\n",
        "                else:\n",
        "                    high =mid-1\n",
        "        return -1"
      ],
      "metadata": {
        "id": "ZUmxvBZyR7B2"
      },
      "execution_count": null,
      "outputs": []
    },
    {
      "cell_type": "code",
      "source": [
        "class Solution(object): #(search in a sorted array of unknown size)\n",
        "    def search(self, reader, target):\n",
        "        \"\"\"\n",
        "        :type reader: ArrayReader\n",
        "        :type target: int\n",
        "        :rtype: int\n",
        "        \"\"\"\n",
        "        low=0\n",
        "        high=1\n",
        "        while(reader.get(high)<target):\n",
        "            low=high\n",
        "            high=high*2\n",
        "        while(low<=high):\n",
        "            mid=low+(high-low)//2\n",
        "            if reader.get(mid)==target:\n",
        "                return mid\n",
        "            elif(reader.get(mid)>target):\n",
        "                high=mid-1\n",
        "            else:\n",
        "                low=mid+1\n",
        "        return -1"
      ],
      "metadata": {
        "id": "1O3SL7Qy_OVr"
      },
      "execution_count": null,
      "outputs": []
    },
    {
      "cell_type": "code",
      "source": [
        "class Solution(object): #(search in a 2d matrix)\n",
        "    def searchMatrix(self, matrix, target):\n",
        "        \"\"\"\n",
        "        :type matrix: List[List[int]]\n",
        "        :type target: int\n",
        "        :rtype: bool\n",
        "        \"\"\"\n",
        "        if(matrix is None or len(matrix)==0):\n",
        "            return False\n",
        "        m=len(matrix[0])\n",
        "        n=len(matrix)\n",
        "        low=0\n",
        "        high=m*n-1\n",
        "        while(low<=high):\n",
        "            mid=low+(high-low)//2\n",
        "            r=mid//m\n",
        "            c=mid%m\n",
        "            if (target==matrix[r][c]):\n",
        "                return True\n",
        "            elif(target<matrix[r][c]):\n",
        "                high=mid-1\n",
        "            else:\n",
        "                low=mid+1\n",
        "        return False"
      ],
      "metadata": {
        "id": "7tMyffY0kpgV"
      },
      "execution_count": null,
      "outputs": []
    }
  ]
}